{
 "cells": [
  {
   "cell_type": "code",
   "execution_count": 5,
   "metadata": {},
   "outputs": [
    {
     "name": "stdout",
     "output_type": "stream",
     "text": [
      "[0, 0, 1, 1, 2, 2]\n"
     ]
    }
   ],
   "source": [
    "class Solution:\n",
    "    # Function to sort an array of 0s, 1s, and 2s\n",
    "    def sort012(self, arr):\n",
    "        # code here\n",
    "        arr.sort()\n",
    "\n",
    "sol = Solution()\n",
    "nums = [0,1,2,0,1,2]\n",
    "\n",
    "sol.sort012(nums)\n",
    "print(nums)"
   ]
  },
  {
   "cell_type": "code",
   "execution_count": 3,
   "metadata": {},
   "outputs": [
    {
     "name": "stdout",
     "output_type": "stream",
     "text": [
      "3\n",
      "0\n",
      "6\n"
     ]
    }
   ],
   "source": [
    "class Solution:\n",
    "    def binarysearch(self, arr, k):\n",
    "        # Code Here\n",
    "        lo = 0\n",
    "        hi = (len(arr) - 1)\n",
    "        \n",
    "        while hi - lo > 1:\n",
    "            mid = (hi + lo) // 2\n",
    "            if arr[mid] < k:\n",
    "                lo = mid + 1\n",
    "            else:\n",
    "                hi = mid\n",
    "            \n",
    "        if arr[lo] == k:\n",
    "            return lo\n",
    "        elif arr[hi] == k:\n",
    "            return hi\n",
    "        else:\n",
    "            return -1\n",
    "\n",
    "\n",
    "            \n",
    "sol = Solution()\n",
    "nums = [1,2,3,4,5]\n",
    "onums = [1,28,36,44,48,64,78,78]\n",
    "\n",
    "print(sol.binarysearch(nums, 4))\n",
    "print(sol.binarysearch(nums, 1))\n",
    "print(sol.binarysearch(onums, 78))"
   ]
  }
 ],
 "metadata": {
  "kernelspec": {
   "display_name": "Python 3",
   "language": "python",
   "name": "python3"
  },
  "language_info": {
   "codemirror_mode": {
    "name": "ipython",
    "version": 3
   },
   "file_extension": ".py",
   "mimetype": "text/x-python",
   "name": "python",
   "nbconvert_exporter": "python",
   "pygments_lexer": "ipython3",
   "version": "3.13.0"
  }
 },
 "nbformat": 4,
 "nbformat_minor": 2
}
